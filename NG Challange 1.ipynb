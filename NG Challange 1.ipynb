{
 "cells": [
  {
   "cell_type": "code",
   "execution_count": 1,
   "metadata": {},
   "outputs": [
    {
     "name": "stdout",
     "output_type": "stream",
     "text": [
      "The unique customer_id in list above is:  12 customer_id\n",
      "16\n",
      "[36, 49, 64, 81]\n",
      "[100, 81, 64, 49, 36, 25, 16, 9, 4, 1]\n",
      "['Nanggroe Aceh Darussalam', 'Sumatera Selatan', 'Kalimantan Barat', 'Jawa Timur', 'Sulawesi Selatan', 'Maluku']\n",
      "Surabaya\n"
     ]
    }
   ],
   "source": [
    "'''\n",
    "Non-Graded Challange 1\n",
    "'''\n",
    "\n",
    "#Task 1\n",
    "customer_id = [\n",
    "    'B818', 'A461', 'A092', 'A082', 'B341', 'A005', 'A092', 'A461','B219', 'B904', 'A901', \n",
    "    'A083', 'B904', 'A092', 'B341', 'B821','B341', 'B821', 'B904', 'B818', 'A901', 'A083', \n",
    "    'B818', 'A082','B219', 'B219', 'A083', 'A901', 'A082', 'B341', 'B341', 'A083','A082', \n",
    "    'B219', 'B439', 'A461', 'A005', 'A901', 'B341', 'A082','A083', 'A461', 'A083', 'A901', \n",
    "    'A461', 'A083', 'A082', 'A083','B341', 'A901', 'A082', 'A461', 'B219', 'A083', 'B818', \n",
    "    'B821','A092', 'B341', 'A461', 'A092', 'A083', 'B821', 'A092'\n",
    "]\n",
    "print('The unique customer_id in list above is: ',len(set(customer_id)), 'customer_id')\n",
    "\n",
    "#Task 2\n",
    "Data = [1, 4, 9, 16, 25, 36, 49,  64, 81, 100]\n",
    "#Grab output 16\n",
    "print(Data[3])\n",
    "#Grab output [36, 49, 64, 81]\n",
    "print(Data[5:9])\n",
    "#Grab output [100, 81, 64, 49, 36, 25, 16, 9, 4, 1]\n",
    "print(Data[::-1])\n",
    "\n",
    "#Task 3\n",
    "provinsi = {\n",
    "    'Nanggroe Aceh Darussalam': 'Aceh',\n",
    "    'Sumatera Selatan': 'Palembang',\n",
    "    'Kalimantan Barat': 'Pontianak',\n",
    "    'Jawa Timur': 'Madiun',\n",
    "    'Sulawesi Selatan': 'Makassar',\n",
    "    'Maluku': 'Ambon'\n",
    "}\n",
    "\n",
    "#Get list of keys available in dictionary\n",
    "list_of_keys = list(provinsi.keys())\n",
    "print(list_of_keys)\n",
    "#Change 'Jawa Timur' value from 'Madiun'  to 'Surabaya'\n",
    "provinsi['Jawa Timur'] = 'Surabaya'\n",
    "print(provinsi['Jawa Timur'])"
   ]
  }
 ],
 "metadata": {
  "kernelspec": {
   "display_name": "Python 3",
   "language": "python",
   "name": "python3"
  },
  "language_info": {
   "codemirror_mode": {
    "name": "ipython",
    "version": 3
   },
   "file_extension": ".py",
   "mimetype": "text/x-python",
   "name": "python",
   "nbconvert_exporter": "python",
   "pygments_lexer": "ipython3",
   "version": "3.10.11"
  }
 },
 "nbformat": 4,
 "nbformat_minor": 2
}
