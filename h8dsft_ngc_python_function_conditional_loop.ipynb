{
 "cells": [
  {
   "cell_type": "code",
   "execution_count": 2,
   "metadata": {},
   "outputs": [],
   "source": [
    "'''\n",
    "Non Graded Challange 2\n",
    "'''\n",
    "\n",
    "# Task 1\n",
    "def number_of_word(sentence):\n",
    "    return len(sentence.split())"
   ]
  },
  {
   "cell_type": "code",
   "execution_count": 4,
   "metadata": {},
   "outputs": [
    {
     "data": {
      "text/plain": [
       "2"
      ]
     },
     "execution_count": 4,
     "metadata": {},
     "output_type": "execute_result"
    }
   ],
   "source": [
    "# check for output 1\n",
    "number_of_word(sentence='Hello World!')"
   ]
  },
  {
   "cell_type": "code",
   "execution_count": 5,
   "metadata": {},
   "outputs": [
    {
     "data": {
      "text/plain": [
       "8"
      ]
     },
     "execution_count": 5,
     "metadata": {},
     "output_type": "execute_result"
    }
   ],
   "source": [
    "# check for output 1\n",
    "number_of_word(sentence = 'Once Upon a Time in a faraway land')"
   ]
  },
  {
   "cell_type": "code",
   "execution_count": 6,
   "metadata": {},
   "outputs": [],
   "source": [
    "# Task 2\n",
    "\n",
    "def find_multiple(start_range,end_range,multiple):\n",
    "\n",
    "    # List of number to be fill\n",
    "    list_of_num = []\n",
    "\n",
    "    # Check for multiples\n",
    "    for num in range(start_range,end_range+1):    \n",
    "        if num%multiple == 0:\n",
    "            list_of_num.append(num)\n",
    "        else:\n",
    "            pass \n",
    "    # Return list_of_num\n",
    "    return list_of_num"
   ]
  },
  {
   "cell_type": "code",
   "execution_count": 7,
   "metadata": {},
   "outputs": [
    {
     "data": {
      "text/plain": [
       "[5, 10, 15, 20]"
      ]
     },
     "execution_count": 7,
     "metadata": {},
     "output_type": "execute_result"
    }
   ],
   "source": [
    "# check for output 1\n",
    "find_multiple(start_range= 1, end_range= 20, multiple= 5)"
   ]
  },
  {
   "cell_type": "code",
   "execution_count": 8,
   "metadata": {},
   "outputs": [
    {
     "data": {
      "text/plain": [
       "[10, 20, 30, 40, 50]"
      ]
     },
     "execution_count": 8,
     "metadata": {},
     "output_type": "execute_result"
    }
   ],
   "source": [
    "# check for output 2\n",
    "find_multiple(start_range= 1, end_range= 50, multiple= 10)"
   ]
  },
  {
   "cell_type": "code",
   "execution_count": 9,
   "metadata": {},
   "outputs": [],
   "source": [
    "#Task 3\n",
    "\n",
    "def Grade_Converter(convert_to, **student):\n",
    "\n",
    "    # output dictionary\n",
    "    output = {}\n",
    "    \n",
    "\n",
    "    # Choose letter grade or gpa\n",
    "    if convert_to == 'letter_grade':\n",
    "        # check for letter grade\n",
    "        letter_grade_check = {'A':list(range(85,101)),'B':list(range(70,85)),\n",
    "                              'C':list(range(60,70)),'D':list(range(50,60)),\n",
    "                              'E':list(range(40,50)),'F':list(range(0,40))}\n",
    "\n",
    "        # breakdown items in letter_grade_check\n",
    "        for grade,values in letter_grade_check.items():\n",
    "\n",
    "            # breakdown items in inputed student variable\n",
    "            for name,student_grade in student.items():\n",
    "\n",
    "                # if student_grade is in the value in letter_grade_check\n",
    "                if student_grade in values:\n",
    "\n",
    "                    # add the student_name and grade to the output dictionary \n",
    "                    output[name] = grade\n",
    "                else:\n",
    "                    pass\n",
    "        return output\n",
    "\n",
    "    # Check for gpa\n",
    "    else:\n",
    "                \n",
    "        # check for gpa score\n",
    "        gpa_check = {'4':list(range(85,101)),'3':list(range(70,85)),\n",
    "                     '2.5':list(range(60,70)),'2':list(range(50,60)),\n",
    "                     '1.5':list(range(40,50)),'1':list(range(0,40))}  \n",
    "\n",
    "        # breakdown items in gpa_check\n",
    "        for grade,values in gpa_check.items():\n",
    "\n",
    "            # breakdown items in inputed student variable\n",
    "            for name,student_grade in student.items():\n",
    "\n",
    "                # if student_grade is in the value in gpa_check\n",
    "                if student_grade in values:\n",
    "\n",
    "                    #add the student_name and gpa_grade to output dictionary\n",
    "                    output[name] = grade\n",
    "                else:\n",
    "                    pass\n",
    "        return output                         "
   ]
  },
  {
   "cell_type": "code",
   "execution_count": 13,
   "metadata": {},
   "outputs": [
    {
     "data": {
      "text/plain": [
       "{'Faiz': '4', 'Adam': '2.5'}"
      ]
     },
     "execution_count": 13,
     "metadata": {},
     "output_type": "execute_result"
    }
   ],
   "source": [
    "# check for output 1\n",
    "Grade_Converter(convert_to='gpa', Adam=62, Faiz=91)"
   ]
  },
  {
   "cell_type": "code",
   "execution_count": 14,
   "metadata": {},
   "outputs": [
    {
     "data": {
      "text/plain": [
       "{'Adam': 'C'}"
      ]
     },
     "execution_count": 14,
     "metadata": {},
     "output_type": "execute_result"
    }
   ],
   "source": [
    "# check for output 2\n",
    "Grade_Converter(convert_to='letter_grade', Adam=62)"
   ]
  },
  {
   "cell_type": "code",
   "execution_count": 16,
   "metadata": {},
   "outputs": [
    {
     "data": {
      "text/plain": [
       "{'Albert': 'A', 'Dwi': 'B', 'Veronica': 'B', 'Syahdan': 'D'}"
      ]
     },
     "execution_count": 16,
     "metadata": {},
     "output_type": "execute_result"
    }
   ],
   "source": [
    "# check for output 3\n",
    "Grade_Converter(convert_to='letter_grade', Albert=90, Dwi=82, Syahdan=58, Veronica=84)"
   ]
  },
  {
   "cell_type": "code",
   "execution_count": 17,
   "metadata": {},
   "outputs": [],
   "source": [
    "# Task 4\n",
    "\n",
    "def my_function(n):\n",
    "\n",
    "    the_sequence = {0: 0, 1: 1}\n",
    "    \n",
    "    # the first two values\n",
    "    if n in the_sequence:\n",
    "        return the_sequence[n]\n",
    "     \n",
    "    # the number keep going till n-th position\n",
    "    the_sequence[n] = my_function(n - 1) + my_function(n - 2)\n",
    "    return the_sequence[n]"
   ]
  },
  {
   "cell_type": "code",
   "execution_count": 18,
   "metadata": {},
   "outputs": [
    {
     "data": {
      "text/plain": [
       "0"
      ]
     },
     "execution_count": 18,
     "metadata": {},
     "output_type": "execute_result"
    }
   ],
   "source": [
    "# check for output 1\n",
    "my_function(0)"
   ]
  },
  {
   "cell_type": "code",
   "execution_count": 19,
   "metadata": {},
   "outputs": [
    {
     "data": {
      "text/plain": [
       "3"
      ]
     },
     "execution_count": 19,
     "metadata": {},
     "output_type": "execute_result"
    }
   ],
   "source": [
    "# check for output 2\n",
    "my_function(4)"
   ]
  },
  {
   "cell_type": "code",
   "execution_count": 20,
   "metadata": {},
   "outputs": [
    {
     "data": {
      "text/plain": [
       "55"
      ]
     },
     "execution_count": 20,
     "metadata": {},
     "output_type": "execute_result"
    }
   ],
   "source": [
    "# check for output 3\n",
    "my_function(10)"
   ]
  },
  {
   "cell_type": "code",
   "execution_count": 21,
   "metadata": {},
   "outputs": [
    {
     "name": "stdout",
     "output_type": "stream",
     "text": [
      "[0, 1, 1, 2, 3, 5, 8, 13, 21, 34, 55]\n"
     ]
    }
   ],
   "source": [
    "# last check\n",
    "fibonacci_sequence = []\n",
    "\n",
    "for n in range(0,11):\n",
    "       \n",
    "    fibonacci_sequence.append(my_function(n))\n",
    "\n",
    "print(fibonacci_sequence)"
   ]
  },
  {
   "cell_type": "markdown",
   "metadata": {},
   "source": []
  }
 ],
 "metadata": {
  "kernelspec": {
   "display_name": "Python 3",
   "language": "python",
   "name": "python3"
  },
  "language_info": {
   "codemirror_mode": {
    "name": "ipython",
    "version": 3
   },
   "file_extension": ".py",
   "mimetype": "text/x-python",
   "name": "python",
   "nbconvert_exporter": "python",
   "pygments_lexer": "ipython3",
   "version": "3.10.11"
  }
 },
 "nbformat": 4,
 "nbformat_minor": 2
}
