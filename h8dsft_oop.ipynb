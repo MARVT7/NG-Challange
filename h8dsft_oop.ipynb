{
 "cells": [
  {
   "cell_type": "markdown",
   "metadata": {},
   "source": [
    "# Non Graded Challange 3"
   ]
  },
  {
   "cell_type": "code",
   "execution_count": 53,
   "metadata": {},
   "outputs": [],
   "source": [
    "class Catalog:\n",
    "\n",
    "    # Catalog Attributes\n",
    "    def __init__(self, books):\n",
    "        self.list_of_books = books # book type is dictionary\n",
    "        self.book_title = books.keys()\n",
    "        self.book_author = books.values()\n",
    "    \n",
    "    # add_book method\n",
    "    def add_book(self,new_book):\n",
    "        self.list_of_books.update(new_book) # update list_of_books with new_book\n",
    "\n",
    "    # search_book method\n",
    "    def search_book(self,search):\n",
    "        self.search = search\n",
    "        self.check_inputed_title = False\n",
    "        self.check_inputed_author = False\n",
    "        self.inputed_title = ''\n",
    "        self.inputed_author = ''\n",
    "\n",
    "        # if the user choose to input the book's title\n",
    "        if self.search.lower() == 'title':\n",
    "            self.check_inputed_title = True\n",
    "    \n",
    "            # check for inputed title is str or int\n",
    "            while self.check_inputed_title == True:\n",
    "                self.inputed_title = input(\"Please enter the book's title you're looking: \")\n",
    "                self.check_inputed_title = self.inputed_title.isdigit()\n",
    "\n",
    "            # checking if the inputed_title is match with the books title\n",
    "            for title,author in self.list_of_books.items():\n",
    "                \n",
    "                if self.inputed_title.lower() in title.lower():\n",
    "                    print('Yes, we have the book you are looking for!')\n",
    "                    print(f\"The book's details: \\nBook's title: {title} \\nBook's author: {author}\")\n",
    "        \n",
    "        # if the user choose to input the book's author\n",
    "        elif self.search.lower() == 'author':\n",
    "            self.check_inputed_author = True\n",
    "    \n",
    "            # check for inputed author is str or int\n",
    "            while self.check_inputed_author == True:\n",
    "                self.inputed_author = input(\"Please enter the book's author you're looking: \")\n",
    "                self.check_inputed_author = self.inputed_author.isdigit()\n",
    "\n",
    "            # checking if the inputed_title is match with the books title\n",
    "            for title,author in self.list_of_books.items():\n",
    "                \n",
    "                if self.inputed_author.lower() in author.lower():\n",
    "                    print('Yes, we have the book you are looking for!')\n",
    "                    print(f\"The book's details: \\nBook's title: {title} \\nBook's author: {author}\")\n",
    "\n",
    "        # user inputed wrong parameter\n",
    "        else:\n",
    "            print(\"Please choose between title or author!\")\n",
    "\n",
    "    # remove a book from catalog -> based on specified book's title\n",
    "    def remove_book(self,book_name):\n",
    "        self.book_name = book_name\n",
    "\n",
    "        for title,author in self.list_of_books.items():\n",
    "            if book_name.lower() in title.lower():\n",
    "                del self.list_of_books[title]\n",
    "                break\n",
    "    \n",
    "    # displaying all books in catalog\n",
    "    def display_catalog(self):\n",
    "        for title,author in self.list_of_books.items():\n",
    "            print(f\"Name of the book: {title}, the Author is {author}\")\n"
   ]
  },
  {
   "cell_type": "code",
   "execution_count": 54,
   "metadata": {},
   "outputs": [],
   "source": [
    "# Check 1: check if the catalog runs well\n",
    "my_catalog = Catalog({'Harry Potter':'Jk Rowling','One Piece':'Seichiro Oda'})"
   ]
  },
  {
   "cell_type": "code",
   "execution_count": 55,
   "metadata": {},
   "outputs": [
    {
     "data": {
      "text/plain": [
       "{'Harry Potter': 'Jk Rowling', 'One Piece': 'Seichiro Oda'}"
      ]
     },
     "execution_count": 55,
     "metadata": {},
     "output_type": "execute_result"
    }
   ],
   "source": [
    "# Check Attribute 1: all books in dictionary\n",
    "my_catalog.list_of_books"
   ]
  },
  {
   "cell_type": "code",
   "execution_count": 56,
   "metadata": {},
   "outputs": [
    {
     "data": {
      "text/plain": [
       "dict_keys(['Harry Potter', 'One Piece'])"
      ]
     },
     "execution_count": 56,
     "metadata": {},
     "output_type": "execute_result"
    }
   ],
   "source": [
    "# Check Attribute 2: all books title\n",
    "my_catalog.book_title"
   ]
  },
  {
   "cell_type": "code",
   "execution_count": 57,
   "metadata": {},
   "outputs": [
    {
     "data": {
      "text/plain": [
       "dict_values(['Jk Rowling', 'Seichiro Oda'])"
      ]
     },
     "execution_count": 57,
     "metadata": {},
     "output_type": "execute_result"
    }
   ],
   "source": [
    "# Check Attribute 3: all books author\n",
    "my_catalog.book_author"
   ]
  },
  {
   "cell_type": "code",
   "execution_count": 58,
   "metadata": {},
   "outputs": [
    {
     "name": "stdout",
     "output_type": "stream",
     "text": [
      "Name of the book: Harry Potter, the Author is Jk Rowling\n",
      "Name of the book: One Piece, the Author is Seichiro Oda\n"
     ]
    }
   ],
   "source": [
    "# Check method 1: Display all books\n",
    "my_catalog.display_catalog()"
   ]
  },
  {
   "cell_type": "code",
   "execution_count": 59,
   "metadata": {},
   "outputs": [
    {
     "name": "stdout",
     "output_type": "stream",
     "text": [
      "Before add book:\n",
      "Name of the book: Harry Potter, the Author is Jk Rowling\n",
      "Name of the book: One Piece, the Author is Seichiro Oda\n",
      "\n",
      "\n",
      "After add book:\n",
      "Name of the book: Harry Potter, the Author is Jk Rowling\n",
      "Name of the book: One Piece, the Author is Seichiro Oda\n",
      "Name of the book: Sherlock Holmes, the Author is Sir Arthur\n"
     ]
    }
   ],
   "source": [
    "# Check method 2: add_book\n",
    "\n",
    "# Display catalog before add book\n",
    "print('Before add book:')\n",
    "my_catalog.display_catalog()\n",
    "print('\\n')\n",
    "\n",
    "# Display catalog after add book\n",
    "print('After add book:')\n",
    "my_catalog.add_book({'Sherlock Holmes':'Sir Arthur'})\n",
    "\n",
    "my_catalog.display_catalog()"
   ]
  },
  {
   "cell_type": "code",
   "execution_count": 60,
   "metadata": {},
   "outputs": [
    {
     "name": "stdout",
     "output_type": "stream",
     "text": [
      "Yes, we have the book you are looking for!\n",
      "The book's details: \n",
      "Book's title: Sherlock Holmes \n",
      "Book's author: Sir Arthur\n"
     ]
    }
   ],
   "source": [
    "# Check method 3: search book\n",
    "# Cara 1: menggunakan title \n",
    "my_catalog.search_book('title')"
   ]
  },
  {
   "cell_type": "code",
   "execution_count": 61,
   "metadata": {},
   "outputs": [
    {
     "name": "stdout",
     "output_type": "stream",
     "text": [
      "Yes, we have the book you are looking for!\n",
      "The book's details: \n",
      "Book's title: Harry Potter \n",
      "Book's author: Jk Rowling\n"
     ]
    }
   ],
   "source": [
    "# Check method 3: search book\n",
    "# Cara 2: menggunakan title \n",
    "my_catalog.search_book('author')"
   ]
  },
  {
   "cell_type": "code",
   "execution_count": 62,
   "metadata": {},
   "outputs": [
    {
     "name": "stdout",
     "output_type": "stream",
     "text": [
      "Before remove book:\n",
      "Name of the book: Harry Potter, the Author is Jk Rowling\n",
      "Name of the book: One Piece, the Author is Seichiro Oda\n",
      "Name of the book: Sherlock Holmes, the Author is Sir Arthur\n",
      "\n",
      "\n",
      "After remove book:\n",
      "Name of the book: Harry Potter, the Author is Jk Rowling\n",
      "Name of the book: One Piece, the Author is Seichiro Oda\n"
     ]
    }
   ],
   "source": [
    "# Check method 4: remove book -> based on specified book's title\n",
    "\n",
    "# Display catalog before add book\n",
    "print('Before remove book:')\n",
    "my_catalog.display_catalog()\n",
    "print('\\n')\n",
    "\n",
    "# Display catalog after add book\n",
    "print('After remove book:')\n",
    "my_catalog.remove_book('sherlock holmes')\n",
    "my_catalog.display_catalog()\n"
   ]
  }
 ],
 "metadata": {
  "kernelspec": {
   "display_name": "Python 3",
   "language": "python",
   "name": "python3"
  },
  "language_info": {
   "codemirror_mode": {
    "name": "ipython",
    "version": 3
   },
   "file_extension": ".py",
   "mimetype": "text/x-python",
   "name": "python",
   "nbconvert_exporter": "python",
   "pygments_lexer": "ipython3",
   "version": "3.10.11"
  }
 },
 "nbformat": 4,
 "nbformat_minor": 2
}
