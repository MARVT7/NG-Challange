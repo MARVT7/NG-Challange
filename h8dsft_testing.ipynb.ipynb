{
 "cells": [
  {
   "cell_type": "markdown",
   "metadata": {},
   "source": [
    "===========================================================\n",
    "\n",
    "### Non-Graded Challenge 4\n",
    "\n",
    "Nama : Maurits Victor Tobing\n",
    "\n",
    "Batch : RMT-032\n",
    "\n",
    "==========================================================="
   ]
  },
  {
   "cell_type": "code",
   "execution_count": 3,
   "metadata": {},
   "outputs": [],
   "source": [
    "class Catalog:\n",
    "\n",
    "    # Catalog Attributes\n",
    "    def __init__(self, books):\n",
    "        self.list_of_books = books # book type is dictionary\n",
    "        self.book_title = books.keys()\n",
    "        self.book_author = books.values()\n",
    "    \n",
    "    # add_book method\n",
    "    def add_book(self,new_book):\n",
    "        self.list_of_books.update(new_book) # update list_of_books with new_book\n",
    "\n",
    "    # search_book method\n",
    "    def search_book(self,search):\n",
    "        self.search = search\n",
    "        self.check_inputed_title = False\n",
    "        self.check_inputed_author = False\n",
    "        self.inputed_title = ''\n",
    "        self.inputed_author = ''\n",
    "\n",
    "        # if the user choose to input the book's title\n",
    "        if self.search.lower() == 'title':\n",
    "            self.check_inputed_title = True\n",
    "    \n",
    "            # check for inputed title is str or int\n",
    "            while self.check_inputed_title == True:\n",
    "                self.inputed_title = input(\"Please enter the book's title you're looking: \")\n",
    "                self.check_inputed_title = self.inputed_title.isdigit()\n",
    "\n",
    "            # checking if the inputed_title is match with the books title\n",
    "            for title,author in self.list_of_books.items():\n",
    "                \n",
    "                if self.inputed_title.lower() in title.lower():\n",
    "                    print('Yes, we have the book you are looking for!')\n",
    "                    print(f\"The book's details: \\nBook's title: {title} \\nBook's author: {author}\")\n",
    "        \n",
    "        # if the user choose to input the book's author\n",
    "        elif self.search.lower() == 'author':\n",
    "            self.check_inputed_author = True\n",
    "    \n",
    "            # check for inputed author is str or int\n",
    "            while self.check_inputed_author == True:\n",
    "                self.inputed_author = input(\"Please enter the book's author you're looking: \")\n",
    "                self.check_inputed_author = self.inputed_author.isdigit()\n",
    "\n",
    "            # checking if the inputed_title is match with the books title\n",
    "            for title,author in self.list_of_books.items():\n",
    "                \n",
    "                if self.inputed_author.lower() in author.lower():\n",
    "                    print('Yes, we have the book you are looking for!')\n",
    "                    print(f\"The book's details: \\nBook's title: {title} \\nBook's author: {author}\")\n",
    "\n",
    "        # user inputed wrong parameter\n",
    "        else:\n",
    "            print(\"Please choose between title or author!\")\n",
    "\n",
    "    # remove a book from catalog -> based on specified book's title\n",
    "    def remove_book(self,book_name):\n",
    "        self.book_name = book_name\n",
    "\n",
    "        for title,author in self.list_of_books.items():\n",
    "            if book_name.lower() in title.lower():\n",
    "                del self.list_of_books[title]\n",
    "                break\n",
    "    \n",
    "    # displaying all books in catalog\n",
    "    def display_catalog(self):\n",
    "        for title,author in self.list_of_books.items():\n",
    "            print(f\"Name of the book: {title}, the Author is {author}\")\n"
   ]
  },
  {
   "cell_type": "code",
   "execution_count": 6,
   "metadata": {},
   "outputs": [],
   "source": [
    "my_catalog = Catalog({'Harry Potter':'Jk Rowling','One Piece':'Seichiro Oda'})"
   ]
  },
  {
   "cell_type": "code",
   "execution_count": 7,
   "metadata": {},
   "outputs": [
    {
     "name": "stdout",
     "output_type": "stream",
     "text": [
      "Name of the book: Harry Potter, the Author is Jk Rowling\n",
      "Name of the book: One Piece, the Author is Seichiro Oda\n"
     ]
    }
   ],
   "source": [
    "my_catalog.display_catalog()"
   ]
  },
  {
   "cell_type": "code",
   "execution_count": 9,
   "metadata": {},
   "outputs": [
    {
     "data": {
      "text/plain": [
       "2"
      ]
     },
     "execution_count": 9,
     "metadata": {},
     "output_type": "execute_result"
    }
   ],
   "source": [
    "len(my_catalog.list_of_books)"
   ]
  },
  {
   "cell_type": "code",
   "execution_count": 13,
   "metadata": {},
   "outputs": [
    {
     "name": "stderr",
     "output_type": "stream",
     "text": [
      "..\n",
      "----------------------------------------------------------------------\n",
      "Ran 2 tests in 0.003s\n",
      "\n",
      "OK\n"
     ]
    }
   ],
   "source": [
    "import unittest\n",
    "\n",
    "class TestProgram(unittest.TestCase):\n",
    "\n",
    "    my_catalog = Catalog({'Harry Potter':'Jk Rowling','One Piece':'Seichiro Oda'})\n",
    "\n",
    "    # test fungsi add book\n",
    "    def test_add_book(self):\n",
    "        my_catalog.add_book({'Sherlock Holmes':'Sir Arthur'})\n",
    "        self.assertEqual(len(my_catalog.list_of_books), 3)\n",
    "\n",
    "    # test fungsi remove_book\n",
    "    def test_remove_book(self):\n",
    "        my_catalog.remove_book('sherlock holmes')\n",
    "        self.assertEqual(len(my_catalog.list_of_books), 2)\n",
    "\n",
    "\n",
    "if __name__ == \"__main__\":\n",
    "    unittest.main(argv=[''], exit=False)\n",
    "\n"
   ]
  }
 ],
 "metadata": {
  "kernelspec": {
   "display_name": "Python 3",
   "language": "python",
   "name": "python3"
  },
  "language_info": {
   "codemirror_mode": {
    "name": "ipython",
    "version": 3
   },
   "file_extension": ".py",
   "mimetype": "text/x-python",
   "name": "python",
   "nbconvert_exporter": "python",
   "pygments_lexer": "ipython3",
   "version": "3.10.11"
  }
 },
 "nbformat": 4,
 "nbformat_minor": 2
}
